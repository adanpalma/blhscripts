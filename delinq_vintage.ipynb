{
 "cells": [
  {
   "cell_type": "code",
   "execution_count": 2,
   "metadata": {
    "collapsed": true
   },
   "outputs": [],
   "source": [
    "import numpy as np\n",
    "import sqlalchemy\n",
    "from pandas import DataFrame\n",
    "from sqlalchemy.engine import URL\n",
    "import pandas as pd\n",
    "import plotly.express as px\n",
    "import pyodbc\n",
    "\n",
    "#pyodbc parameter for conections to database\n",
    "driver = '{SQL Server}'\n",
    "server = '10.10.20.37'\n",
    "database = 'RISKPAN'\n",
    "trust_connection = 'yes'\n",
    "\n",
    "db_flavor = 'mssql+pyodbc'\n",
    "\n",
    "#Conection String\n",
    "conn_string = f'DRIVER={driver};'\n",
    "conn_string += f'SERVER={server};'\n",
    "conn_string += f'DATABASE={database};'\n",
    "conn_string += f'TRUSTED_CONNECTION={trust_connection}'"
   ]
  },
  {
   "cell_type": "code",
   "execution_count": 5,
   "outputs": [],
   "source": [
    "#Sqlalchemy engine connection URL\n",
    "conn_url = URL.create(db_flavor,query={\"odbc_connect\":conn_string})\n",
    "\n",
    "##Create engine connection\n",
    "engine = sqlalchemy.create_engine(conn_url)\n",
    "\n"
   ],
   "metadata": {
    "collapsed": false,
    "pycharm": {
     "name": "#%%\n"
    }
   }
  },
  {
   "cell_type": "code",
   "execution_count": 77,
   "outputs": [
    {
     "ename": "KeyboardInterrupt",
     "evalue": "",
     "output_type": "error",
     "traceback": [
      "\u001B[1;31m---------------------------------------------------------------------------\u001B[0m",
      "\u001B[1;31mKeyboardInterrupt\u001B[0m                         Traceback (most recent call last)",
      "\u001B[1;32m~\\AppData\\Local\\Temp/ipykernel_15312/1262039303.py\u001B[0m in \u001B[0;36m<module>\u001B[1;34m\u001B[0m\n\u001B[0;32m     49\u001B[0m \u001B[1;33m\u001B[0m\u001B[0m\n\u001B[0;32m     50\u001B[0m \u001B[1;33m\u001B[0m\u001B[0m\n\u001B[1;32m---> 51\u001B[1;33m \u001B[0mdf_plotear\u001B[0m \u001B[1;33m=\u001B[0m \u001B[0mdf_periodosbyvintages\u001B[0m\u001B[1;33m[\u001B[0m\u001B[1;33m[\u001B[0m\u001B[1;34m'vintage'\u001B[0m\u001B[1;33m,\u001B[0m\u001B[1;34m'period'\u001B[0m\u001B[1;33m,\u001B[0m\u001B[1;34m'Hipotecas_deemed_acumulado'\u001B[0m\u001B[1;33m]\u001B[0m\u001B[1;33m]\u001B[0m\u001B[1;33m\u001B[0m\u001B[1;33m\u001B[0m\u001B[0m\n\u001B[0m\u001B[0;32m     52\u001B[0m \u001B[0mdf_plotear\u001B[0m\u001B[1;33m.\u001B[0m\u001B[0mto_csv\u001B[0m\u001B[1;33m(\u001B[0m\u001B[1;34m'data/Pan_Hipo_DeemDefault.csv'\u001B[0m\u001B[1;33m)\u001B[0m\u001B[1;33m\u001B[0m\u001B[1;33m\u001B[0m\u001B[0m\n",
      "\u001B[1;32m~\\AppData\\Local\\Temp/ipykernel_15312/1262039303.py\u001B[0m in \u001B[0;36m<module>\u001B[1;34m\u001B[0m\n\u001B[0;32m     49\u001B[0m \u001B[1;33m\u001B[0m\u001B[0m\n\u001B[0;32m     50\u001B[0m \u001B[1;33m\u001B[0m\u001B[0m\n\u001B[1;32m---> 51\u001B[1;33m \u001B[0mdf_plotear\u001B[0m \u001B[1;33m=\u001B[0m \u001B[0mdf_periodosbyvintages\u001B[0m\u001B[1;33m[\u001B[0m\u001B[1;33m[\u001B[0m\u001B[1;34m'vintage'\u001B[0m\u001B[1;33m,\u001B[0m\u001B[1;34m'period'\u001B[0m\u001B[1;33m,\u001B[0m\u001B[1;34m'Hipotecas_deemed_acumulado'\u001B[0m\u001B[1;33m]\u001B[0m\u001B[1;33m]\u001B[0m\u001B[1;33m\u001B[0m\u001B[1;33m\u001B[0m\u001B[0m\n\u001B[0m\u001B[0;32m     52\u001B[0m \u001B[0mdf_plotear\u001B[0m\u001B[1;33m.\u001B[0m\u001B[0mto_csv\u001B[0m\u001B[1;33m(\u001B[0m\u001B[1;34m'data/Pan_Hipo_DeemDefault.csv'\u001B[0m\u001B[1;33m)\u001B[0m\u001B[1;33m\u001B[0m\u001B[1;33m\u001B[0m\u001B[0m\n",
      "\u001B[1;32m_pydevd_bundle\\pydevd_cython_win32_39_64.pyx\u001B[0m in \u001B[0;36m_pydevd_bundle.pydevd_cython_win32_39_64.SafeCallWrapper.__call__\u001B[1;34m()\u001B[0m\n",
      "\u001B[1;32m_pydevd_bundle\\pydevd_cython_win32_39_64.pyx\u001B[0m in \u001B[0;36m_pydevd_bundle.pydevd_cython_win32_39_64.PyDBFrame.trace_dispatch\u001B[1;34m()\u001B[0m\n",
      "\u001B[1;32m_pydevd_bundle\\pydevd_cython_win32_39_64.pyx\u001B[0m in \u001B[0;36m_pydevd_bundle.pydevd_cython_win32_39_64.PyDBFrame.trace_dispatch\u001B[1;34m()\u001B[0m\n",
      "\u001B[1;32m_pydevd_bundle\\pydevd_cython_win32_39_64.pyx\u001B[0m in \u001B[0;36m_pydevd_bundle.pydevd_cython_win32_39_64.PyDBFrame.trace_dispatch\u001B[1;34m()\u001B[0m\n",
      "\u001B[1;32m_pydevd_bundle\\pydevd_cython_win32_39_64.pyx\u001B[0m in \u001B[0;36m_pydevd_bundle.pydevd_cython_win32_39_64.PyDBFrame.do_wait_suspend\u001B[1;34m()\u001B[0m\n",
      "\u001B[1;32mC:\\Program Files\\JetBrains\\DataSpell 213.5352.7\\plugins\\python-ce\\helpers\\pydev\\pydevd.py\u001B[0m in \u001B[0;36mdo_wait_suspend\u001B[1;34m(self, thread, frame, event, arg, send_suspend_message, is_unhandled_exception)\u001B[0m\n\u001B[0;32m   1145\u001B[0m \u001B[1;33m\u001B[0m\u001B[0m\n\u001B[0;32m   1146\u001B[0m         \u001B[1;32mwith\u001B[0m \u001B[0mself\u001B[0m\u001B[1;33m.\u001B[0m\u001B[0m_threads_suspended_single_notification\u001B[0m\u001B[1;33m.\u001B[0m\u001B[0mnotify_thread_suspended\u001B[0m\u001B[1;33m(\u001B[0m\u001B[0mthread_id\u001B[0m\u001B[1;33m,\u001B[0m \u001B[0mstop_reason\u001B[0m\u001B[1;33m)\u001B[0m\u001B[1;33m:\u001B[0m\u001B[1;33m\u001B[0m\u001B[1;33m\u001B[0m\u001B[0m\n\u001B[1;32m-> 1147\u001B[1;33m             \u001B[0mself\u001B[0m\u001B[1;33m.\u001B[0m\u001B[0m_do_wait_suspend\u001B[0m\u001B[1;33m(\u001B[0m\u001B[0mthread\u001B[0m\u001B[1;33m,\u001B[0m \u001B[0mframe\u001B[0m\u001B[1;33m,\u001B[0m \u001B[0mevent\u001B[0m\u001B[1;33m,\u001B[0m \u001B[0marg\u001B[0m\u001B[1;33m,\u001B[0m \u001B[0msuspend_type\u001B[0m\u001B[1;33m,\u001B[0m \u001B[0mfrom_this_thread\u001B[0m\u001B[1;33m)\u001B[0m\u001B[1;33m\u001B[0m\u001B[1;33m\u001B[0m\u001B[0m\n\u001B[0m\u001B[0;32m   1148\u001B[0m \u001B[1;33m\u001B[0m\u001B[0m\n\u001B[0;32m   1149\u001B[0m     \u001B[1;32mdef\u001B[0m \u001B[0m_do_wait_suspend\u001B[0m\u001B[1;33m(\u001B[0m\u001B[0mself\u001B[0m\u001B[1;33m,\u001B[0m \u001B[0mthread\u001B[0m\u001B[1;33m,\u001B[0m \u001B[0mframe\u001B[0m\u001B[1;33m,\u001B[0m \u001B[0mevent\u001B[0m\u001B[1;33m,\u001B[0m \u001B[0marg\u001B[0m\u001B[1;33m,\u001B[0m \u001B[0msuspend_type\u001B[0m\u001B[1;33m,\u001B[0m \u001B[0mfrom_this_thread\u001B[0m\u001B[1;33m)\u001B[0m\u001B[1;33m:\u001B[0m\u001B[1;33m\u001B[0m\u001B[1;33m\u001B[0m\u001B[0m\n",
      "\u001B[1;32mC:\\Program Files\\JetBrains\\DataSpell 213.5352.7\\plugins\\python-ce\\helpers\\pydev\\pydevd.py\u001B[0m in \u001B[0;36m_do_wait_suspend\u001B[1;34m(self, thread, frame, event, arg, suspend_type, from_this_thread)\u001B[0m\n\u001B[0;32m   1160\u001B[0m \u001B[1;33m\u001B[0m\u001B[0m\n\u001B[0;32m   1161\u001B[0m                 \u001B[0mself\u001B[0m\u001B[1;33m.\u001B[0m\u001B[0mprocess_internal_commands\u001B[0m\u001B[1;33m(\u001B[0m\u001B[1;33m)\u001B[0m\u001B[1;33m\u001B[0m\u001B[1;33m\u001B[0m\u001B[0m\n\u001B[1;32m-> 1162\u001B[1;33m                 \u001B[0mtime\u001B[0m\u001B[1;33m.\u001B[0m\u001B[0msleep\u001B[0m\u001B[1;33m(\u001B[0m\u001B[1;36m0.01\u001B[0m\u001B[1;33m)\u001B[0m\u001B[1;33m\u001B[0m\u001B[1;33m\u001B[0m\u001B[0m\n\u001B[0m\u001B[0;32m   1163\u001B[0m \u001B[1;33m\u001B[0m\u001B[0m\n\u001B[0;32m   1164\u001B[0m         \u001B[0mself\u001B[0m\u001B[1;33m.\u001B[0m\u001B[0mcancel_async_evaluation\u001B[0m\u001B[1;33m(\u001B[0m\u001B[0mget_current_thread_id\u001B[0m\u001B[1;33m(\u001B[0m\u001B[0mthread\u001B[0m\u001B[1;33m)\u001B[0m\u001B[1;33m,\u001B[0m \u001B[0mstr\u001B[0m\u001B[1;33m(\u001B[0m\u001B[0mid\u001B[0m\u001B[1;33m(\u001B[0m\u001B[0mframe\u001B[0m\u001B[1;33m)\u001B[0m\u001B[1;33m)\u001B[0m\u001B[1;33m)\u001B[0m\u001B[1;33m\u001B[0m\u001B[1;33m\u001B[0m\u001B[0m\n",
      "\u001B[1;31mKeyboardInterrupt\u001B[0m: "
     ]
    }
   ],
   "source": [
    "# Read periodos_transcurridos_x_coshechas from sql to pandas.data frame\n",
    "df_periodosbyvintages = pd.read_sql_table('periodos_transcurridos_x_cosecha', engine)\n",
    "\n",
    "# Agrego campo para crear el campo acumulado\n",
    "df_periodosbyvintages[\"Hipotecas_deemed_acumulado\"] = 0\n",
    "df_periodosbyvintages[\"Hipotecas_default_acumulado\"] = 0\n",
    "df_periodosbyvintages[\"personal_deemed_acumulado\"] = 0\n",
    "df_periodosbyvintages[\"personal_default_acumulado\"] = 0\n",
    "\n",
    "# Se lee el deemdefault de cada cosecha, se une al dataframe periodos y se genera un cumsum()\n",
    "df_deemed_total: DataFrame = pd.DataFrame()\n",
    "primera_vez = 1\n",
    "vintage1 = df_periodosbyvintages['vintage'].min()\n",
    "vintageN =  df_periodosbyvintages['vintage'].max() + 1\n",
    "\n",
    "for vvintage in range(vintage1,vintageN):\n",
    "    qry_deemed = \"\"\" select * from DEEMED_DEFAULT_POR_COSECHAS_HIPO where vintage = {} order by 2\"\"\".format(vvintage)\n",
    "    df_deemed_defaults_vintage = pd.read_sql(qry_deemed, engine)\n",
    "    if primera_vez:\n",
    "        df_deemed_total = df_deemed_defaults_vintage\n",
    "        primera_vez = 0\n",
    "    else:\n",
    "        df_deemed_total = df_deemed_total.append(df_deemed_defaults_vintage)\n",
    "\n",
    "df_periodosbyvintages = pd.merge(df_periodosbyvintages, df_deemed_total, how='left', on=['vintage', 'period'])\n",
    "df_periodosbyvintages.fillna(0, inplace=True)\n",
    "df_periodosbyvintages['Hipotecas_deemed_acumulado'] = df_periodosbyvintages.groupby('vintage')['percentage_deemed_defaulted'].cumsum()\n",
    "\n",
    "\n",
    "#Copio la estructura del Dataframe sin datos para usarlo en el calculo del deemed de todas las cosechas\n",
    "dd_all_vintages = pd.DataFrame(data=None, columns=df_periodosbyvintages.columns)\n",
    "\n",
    "#Paso los periodos del primer vintage el cual tiene todos los periodos\n",
    "dd_all_vintages['period'] = df_periodosbyvintages[df_periodosbyvintages['vintage'] == vintage1].reset_index()['period']\n",
    "\n",
    "\n",
    "dd_all_vintages['vintage'] = int(str(vintage1) + str(vintageN)) #creo la etiqueta que tiene desde hasta cosecha\n",
    "dd_all_vintages.fillna(0, inplace=True)\n",
    "\n",
    "#Calculo el deemed default de todas las cosechas\n",
    "df_balance_def = df_periodosbyvintages.groupby('period')['balance_deemed_default'].sum().reset_index()\n",
    "df_disbursement = df_periodosbyvintages.groupby('period')['disbursement'].sum().reset_index()\n",
    "dd_all_vintages['Hipotecas_deemed_acumulado'] = df_balance_def['balance_deemed_default'] / df_disbursement['disbursement']\n",
    "dd_all_vintages.fillna(0,inplace =True)\n",
    "\n",
    "#Agrego el dataframe de toda las cosechas al dataframe final\n",
    "df_periodosbyvintages = df_periodosbyvintages.append(dd_all_vintages)\n",
    "\n",
    "#Borro los dataframe que no se necestan\n",
    "del df_deemed_defaults_vintage , df_deemed_total, dd_all_vintages,df_disbursement,df_balance_def\n",
    "\n",
    "\n",
    "\n",
    "df_plotear = df_periodosbyvintages[['vintage','period','Hipotecas_deemed_acumulado']]\n",
    "df_plotear.to_csv('data/Pan_Hipo_DeemDefault.csv')"
   ],
   "metadata": {
    "collapsed": false,
    "pycharm": {
     "name": "#%%\n"
    }
   }
  }
 ],
 "metadata": {
  "kernelspec": {
   "display_name": "Python 3",
   "language": "python",
   "name": "python3"
  },
  "language_info": {
   "codemirror_mode": {
    "name": "ipython",
    "version": 2
   },
   "file_extension": ".py",
   "mimetype": "text/x-python",
   "name": "python",
   "nbconvert_exporter": "python",
   "pygments_lexer": "ipython2",
   "version": "2.7.6"
  }
 },
 "nbformat": 4,
 "nbformat_minor": 0
}