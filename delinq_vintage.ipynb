{
 "cells": [
  {
   "cell_type": "code",
   "execution_count": 7,
   "metadata": {
    "collapsed": true
   },
   "outputs": [],
   "source": [
    "import sqlalchemy\n",
    "from pandas import DataFrame\n",
    "from sqlalchemy.engine import URL\n",
    "import pandas as pd\n",
    "import plotly.express as px\n",
    "import pyodbc\n",
    "\n",
    "#pyodbc parameter for conections to database\n",
    "driver = '{SQL Server}'\n",
    "server = '10.10.20.37'\n",
    "database = 'RISKPAN'\n",
    "trust_connection = 'yes'\n",
    "\n",
    "db_flavor = 'mssql+pyodbc'\n",
    "\n",
    "#Conection String\n",
    "conn_string = f'DRIVER={driver};'\n",
    "conn_string += f'SERVER={server};'\n",
    "conn_string += f'DATABASE={database};'\n",
    "conn_string += f'TRUSTED_CONNECTION={trust_connection}'"
   ]
  },
  {
   "cell_type": "code",
   "execution_count": 8,
   "outputs": [],
   "source": [
    "#Sqlalchemy engine connection URL\n",
    "conn_url = URL.create(db_flavor,query={\"odbc_connect\":conn_string})\n",
    "\n",
    "##Create engine connection\n",
    "engine = sqlalchemy.create_engine(conn_url)\n",
    "\n"
   ],
   "metadata": {
    "collapsed": false,
    "pycharm": {
     "name": "#%%\n"
    }
   }
  },
  {
   "cell_type": "code",
   "execution_count": null,
   "outputs": [],
   "source": [
    "# Read periodos_transcurridos_x_coshechas from sql to pandas.data frame\n",
    "df_periodosbyvintages = pd.read_sql_table('periodos_transcurridos_x_cosecha', engine)\n",
    "\n",
    "# Agrego campo para crear el campo acumulado\n",
    "df_periodosbyvintages[\"Hipotecas_deemed_acumulado\"] = 0\n",
    "df_periodosbyvintages[\"Hipotecas_default_acumulado\"] = 0\n",
    "df_periodosbyvintages[\"personal_deemed_acumulado\"] = 0\n",
    "df_periodosbyvintages[\"personal_default_acumulado\"] = 0\n",
    "\n",
    "# Se lee el deemdefault de cada cosecha, se une al dataframe periodos y se genera un cumsum()\n",
    "df_deemed_total: DataFrame = pd.DataFrame()\n",
    "primera_vez = 1\n",
    "vintage1 = df_periodosbyvintages['vintage'].min()\n",
    "vintageN = df_periodosbyvintages['vintage'].max() + 1\n",
    "\n",
    "for vvintage in range(vintage1,vintageN):\n",
    "    qry_deemed = \"\"\" select * from DEEMED_DEFAULT_POR_COSECHAS_HIPO where vintage = {} order by 2\"\"\".format(vvintage)\n",
    "    df_deemed_defaults_vintage = pd.read_sql(qry_deemed, engine)\n",
    "    if primera_vez:\n",
    "        df_deemed_total = df_deemed_defaults_vintage\n",
    "        primera_vez = 0\n",
    "    else:\n",
    "        df_deemed_total = df_deemed_total.append(df_deemed_defaults_vintage)\n",
    "\n",
    "df_periodosbyvintages = pd.merge(df_periodosbyvintages, df_deemed_total, how='left', on=['vintage', 'period'])\n",
    "df_periodosbyvintages.fillna(0, inplace=True)\n",
    "\n",
    "# TODO: Calcular el deemed de todas las cosaschas por periodo sum(balancedefaulted)/sum(desembolso)\n",
    "# y grabarlo en el dataframe que se usa para plotear...ojo con eso....\n",
    "\n",
    "\n",
    "\n",
    "\n",
    "df_periodosbyvintages['Hipotecas_deemed_acumulado'] = df_periodosbyvintages.groupby('vintage')['percentage_deemed_defaulted'].cumsum()\n",
    "\n",
    "del df_deemed_defaults_vintage\n",
    "del df_deemed_total\n",
    "\n",
    "df_plotear = df_periodosbyvintages[['vintage','period','Hipotecas_deemed_acumulado']]\n",
    "df_plotear.to_csv('data/Pan_Hipo_DeemDefault.csv')"
   ],
   "metadata": {
    "collapsed": false,
    "pycharm": {
     "name": "#%%\n",
     "is_executing": true
    }
   }
  }
 ],
 "metadata": {
  "kernelspec": {
   "display_name": "Python 3",
   "language": "python",
   "name": "python3"
  },
  "language_info": {
   "codemirror_mode": {
    "name": "ipython",
    "version": 2
   },
   "file_extension": ".py",
   "mimetype": "text/x-python",
   "name": "python",
   "nbconvert_exporter": "python",
   "pygments_lexer": "ipython2",
   "version": "2.7.6"
  }
 },
 "nbformat": 4,
 "nbformat_minor": 0
}