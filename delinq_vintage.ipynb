{
 "cells": [
  {
   "cell_type": "code",
   "execution_count": 1,
   "metadata": {
    "collapsed": true
   },
   "outputs": [],
   "source": [
    "import numpy as np\n",
    "import sqlalchemy\n",
    "from pandas import DataFrame\n",
    "from sqlalchemy.engine import URL\n",
    "import pandas as pd\n",
    "import plotly.express as px\n",
    "import pyodbc\n",
    "\n",
    "#pyodbc parameter for conections to database\n",
    "driver = '{SQL Server}'\n",
    "server = '10.10.20.37'\n",
    "database = 'RISKPAN'\n",
    "trust_connection = 'yes'\n",
    "\n",
    "db_flavor = 'mssql+pyodbc'\n",
    "\n",
    "#Conection String\n",
    "conn_string = f'DRIVER={driver};'\n",
    "conn_string += f'SERVER={server};'\n",
    "conn_string += f'DATABASE={database};'\n",
    "conn_string += f'TRUSTED_CONNECTION={trust_connection}'"
   ]
  },
  {
   "cell_type": "code",
   "execution_count": 2,
   "outputs": [],
   "source": [
    "#Sqlalchemy engine connection URL\n",
    "conn_url = URL.create(db_flavor,query={\"odbc_connect\":conn_string})\n",
    "\n",
    "##Create engine connection\n",
    "engine = sqlalchemy.create_engine(conn_url)\n",
    "\n"
   ],
   "metadata": {
    "collapsed": false,
    "pycharm": {
     "name": "#%%\n"
    }
   }
  },
  {
   "cell_type": "code",
   "execution_count": 8,
   "outputs": [],
   "source": [
    "# Read periodos_transcurridos_x_coshechas from sql to pandas.data frame\n",
    "df_periodosbyvintages = pd.read_sql_table('periodos_transcurridos_x_cosecha', engine)\n",
    "\n",
    "# Agrego campo para crear el campo acumulado\n",
    "df_periodosbyvintages[\"Hipotecas_deemed_acumulado\"] = 0\n",
    "df_periodosbyvintages[\"Hipotecas_default_acumulado\"] = 0\n",
    "df_periodosbyvintages[\"personal_deemed_acumulado\"] = 0\n",
    "df_periodosbyvintages[\"personal_default_acumulado\"] = 0\n",
    "\n",
    "# Se lee el deemdefault de cada cosecha, se une al dataframe periodos y se genera un cumsum()\n",
    "df_deemed_total: DataFrame = pd.DataFrame()\n",
    "primera_vez = 1\n",
    "vintage1 = df_periodosbyvintages['vintage'].min()\n",
    "vintageN = df_periodosbyvintages['vintage'].max() + 1\n",
    "\n",
    "# Se va obteniendo los deemeed defautls cosecha por cosecha porque si se hace el select para todas las\n",
    "#cosechas la vista tarda demasiado tiempo. Una posibilidad es no usar una vista y calcular los deemede defaults\n",
    "#usando un procedimiento o mejorar el performance de la vista\n",
    "for vvintage in range(vintage1,vintageN):\n",
    "    qry_deemed = \"\"\" select * from DEEMED_DEFAULT_POR_COSECHAS_HIPO where vintage = {} order by 2\"\"\".format(vvintage)\n",
    "    df_deemed_defaults_vintage = pd.read_sql(qry_deemed, engine)\n",
    "    if primera_vez:\n",
    "        df_deemed_total = df_deemed_defaults_vintage\n",
    "        primera_vez = 0\n",
    "    else:\n",
    "        #cada vintage leida se va apilando en un dataframe que las tendra todas\n",
    "        df_deemed_total = df_deemed_total.append(df_deemed_defaults_vintage)\n",
    "\n",
    "\n",
    "df_periodosbyvintages = pd.merge(df_periodosbyvintages, df_deemed_total, how='left', on=['vintage', 'period'])\n",
    "df_periodosbyvintages.fillna(0, inplace=True)\n",
    "df_periodosbyvintages['Hipotecas_deemed_acumulado'] = df_periodosbyvintages.groupby('vintage')['percentage_deemed_defaulted'].cumsum()\n",
    "\n",
    "\n",
    "#Copio la estructura del Dataframe sin datos para usarlo en el calculo del deemed de todas las cosechas\n",
    "dd_all_vintages = pd.DataFrame(data=None, columns=df_periodosbyvintages.columns)\n",
    "\n",
    "#Paso los periodos del primer vintage el cual tiene todos los periodos\n",
    "dd_all_vintages['period'] = df_periodosbyvintages[df_periodosbyvintages['vintage'] == vintage1].reset_index()['period']\n",
    "\n",
    "#Se crea el vintage de todas las cosechas entre primer vintage y el ultimo vintage\n",
    "dd_all_vintages['vintage'] = int(str(vintage1) + str(vintageN-1)) #creo la etiqueta que tiene desde hasta cosecha\n",
    "dd_all_vintages.fillna(0, inplace=True)\n",
    "\n",
    "#Calculo el deemed default de todas las cosechas\n",
    "df_balance_def = df_periodosbyvintages.groupby('period')['balance_deemed_default'].sum().reset_index()\n",
    "df_disbursement = df_periodosbyvintages.groupby('period')['disbursement'].sum().reset_index()\n",
    "dd_all_vintages['percentage_deemed_defaulted'] = df_balance_def['balance_deemed_default'] / df_disbursement['disbursement']\n",
    "dd_all_vintages.fillna(0, inplace=True)\n",
    "dd_all_vintages['Hipotecas_deemed_acumulado'] = dd_all_vintages.groupby('vintage')['percentage_deemed_defaulted'].cumsum()\n",
    "\n",
    "dd_all_vintages.fillna(0,inplace =True)\n",
    "\n",
    "#Agrego el dataframe de toda las cosechas al dataframe final\n",
    "df_periodosbyvintages = df_periodosbyvintages.append(dd_all_vintages).reset_index()\n",
    "\n",
    "#Borro los dataframe que no se necestan\n",
    "del df_deemed_defaults_vintage , df_deemed_total, dd_all_vintages,df_disbursement,df_balance_def\n",
    "\n",
    "\n",
    "\n",
    "df_plotear = df_periodosbyvintages[['vintage','period','Hipotecas_deemed_acumulado']]\n",
    "df_plotear.to_csv('data/Pan_Hipo_DeemDefault.csv')"
   ],
   "metadata": {
    "collapsed": false,
    "pycharm": {
     "name": "#%%\n"
    }
   }
  }
 ],
 "metadata": {
  "kernelspec": {
   "display_name": "Python 3",
   "language": "python",
   "name": "python3"
  },
  "language_info": {
   "codemirror_mode": {
    "name": "ipython",
    "version": 2
   },
   "file_extension": ".py",
   "mimetype": "text/x-python",
   "name": "python",
   "nbconvert_exporter": "python",
   "pygments_lexer": "ipython2",
   "version": "2.7.6"
  }
 },
 "nbformat": 4,
 "nbformat_minor": 0
}